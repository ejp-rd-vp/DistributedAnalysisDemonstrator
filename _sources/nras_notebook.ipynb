{
 "cells": [
  {
   "cell_type": "code",
   "execution_count": 26,
   "metadata": {},
   "outputs": [],
   "source": [
    "import os\n",
    "\n",
    "import rdflib\n",
    "import oxrdflib\n",
    "\n",
    "import pandas as pd\n",
    "from datetime import datetime\n",
    "\n",
    "from myst_nb import glue\n",
    "\n",
    "rdflib.plugin.register('Oxigraph', rdflib.store.Store, 'oxrdflib', 'Oxigraph')\n",
    "\n"
   ]
  },
  {
   "cell_type": "markdown",
   "metadata": {},
   "source": [
    "# Loading RDF Datasets and Ontologies"
   ]
  },
  {
   "cell_type": "code",
   "execution_count": 27,
   "metadata": {},
   "outputs": [],
   "source": [
    "def get_file_ext(filename: str):\n",
    "    \"\"\"  \"\"\"\n",
    "    return filename.split('.')[-1]\n",
    "\n",
    "def get_rdf_filenames(dirname: str):\n",
    "    \"\"\"  \"\"\"\n",
    "    rdf_filenames = []\n",
    "    for filename in os.listdir(dirname):\n",
    "        file_path = os.path.join(dirname, filename)\n",
    "        if os.path.isfile(file_path): \n",
    "            if get_file_ext(filename) == 'ttl':\n",
    "                rdf_filenames.append(filename)\n",
    "            elif get_file_ext(filename) == 'xrdf':\n",
    "                rdf_filenames.append(filename)\n",
    "    return rdf_filenames\n",
    "\n",
    "def load_rdf_files(dirnames: list):\n",
    "    \"\"\"  \"\"\"\n",
    "\n",
    "    g = rdflib.Graph(store=oxrdflib.OxigraphStore())\n",
    "\n",
    "    for dirname in dirnames:\n",
    "        print(f'Load RDF data from directory {dirname} into RDF graph.')\n",
    "    \n",
    "        rdf_filenames = get_rdf_filenames(dirname)\n",
    "        for rdf_filename in rdf_filenames:\n",
    "            if get_file_ext(rdf_filename) == 'xrdf':\n",
    "                g.parse(f'{dirname}/{rdf_filename}', format='xml')\n",
    "            elif get_file_ext(rdf_filename) == 'ttl':\n",
    "                g.parse(f'{dirname}/{rdf_filename}', format='ttl')\n",
    "\n",
    "    return g"
   ]
  },
  {
   "cell_type": "code",
   "execution_count": 37,
   "metadata": {},
   "outputs": [
    {
     "name": "stdout",
     "output_type": "stream",
     "text": [
      "Load RDF data from directory MONARCH_PHENOPACKET_STORE_DATA into RDF graph.\n",
      "Load RDF data from directory HPO into RDF graph.\n"
     ]
    }
   ],
   "source": [
    "rdf_dirnames = ['MONARCH_PHENOPACKET_STORE_DATA', 'HPO']\n",
    "g = load_rdf_files(rdf_dirnames)"
   ]
  },
  {
   "cell_type": "markdown",
   "metadata": {},
   "source": [
    "# SPARQL Queries"
   ]
  },
  {
   "cell_type": "code",
   "execution_count": 38,
   "metadata": {},
   "outputs": [],
   "source": [
    "SCENARIO_NR = 5\n",
    "gene_id = 'HGNC:7989'"
   ]
  },
  {
   "cell_type": "markdown",
   "metadata": {},
   "source": [
    "## Question 1"
   ]
  },
  {
   "cell_type": "markdown",
   "metadata": {},
   "source": [
    "Are there any other individuals with a mutation in the same gene?"
   ]
  },
  {
   "cell_type": "code",
   "execution_count": 39,
   "metadata": {},
   "outputs": [
    {
     "data": {
      "text/plain": [
       "\"PREFIX ex: <https://example.org/>\\nPREFIX obo: <http://purl.obolibrary.org/obo/>\\nPREFIX sio: <http://semanticscience.org/resource/>\\nPREFIX dcterms: <http://purl.org/dc/terms/> \\nPREFIX rdfs: <http://www.w3.org/2000/01/rdf-schema#>\\n\\nSELECT ?phenopacketidval ?creatorname ?createddate\\nWHERE {\\n    # Find the phenopackets that contain at least one mutation in given gene\\n    ?genedescr a obo:NCIT_C16612 ;\\n               dcterms:identifier 'HGNC:7989' .\\n    ?vardescr sio:SIO_001403 ?genedescr .\\n    ?varinterpr sio:SIO_001403 ?vardescr .\\n    ?genomicinterp sio:SIO_001403 ?varinterpr .\\n    ?diagnosis sio:SIO_001403 ?genomicinterp .\\n    ?interpr sio:SIO_001403 ?diagnosis .\\n    ?phenopacket sio:SIO_001403 ?interpr ;\\n                 a obo:NCIT_C79269 ;\\n                 sio:SIO_000228 ?role .\\n    \\n    # Find phenopacket ID value\\n    ?phenopacketid sio:SIO_000020 ?role ;\\n\\t               sio:SIO_000300 ?phenopacketidval .\\n    \\n    # Find metadata\\n    ?phenopacket sio:SIO_001403 ?metadata .\\n    ?metadata a obo:NCIT_C52095 ;\\n              sio:SIO_000008 ?creator ;\\n              sio:SIO_000008 ?created .\\n    \\n    ?creator a dcterms:creator .\\n    ?creatorval sio:SIO_000628 ?creator ;\\n                a obo:NCIT_C70856 ;\\n                sio:SIO_000300 ?creatorname .\\n    \\n    ?created a dcterms:created .\\n    ?createdval sio:SIO_000628 ?created ;\\n                a obo:NCIT_C70856 ;\\n                sio:SIO_000300 ?createddate .\\n}\""
      ]
     },
     "metadata": {
      "scrapbook": {
       "mime_prefix": "",
       "name": "scenario5_query_q1"
      }
     },
     "output_type": "display_data"
    }
   ],
   "source": [
    "with open(f'SPARQL/scenario_{SCENARIO_NR}/question1.rq', 'r') as file:\n",
    "    query = file.read()\n",
    "\n",
    "query = query.replace('VAR_GENE_ID', gene_id)\n",
    "glue('scenario5_query_q1', query)"
   ]
  },
  {
   "cell_type": "code",
   "execution_count": 40,
   "metadata": {},
   "outputs": [],
   "source": [
    "result_list = []\n",
    "\n",
    "results = g.query(query)\n",
    "result_nr = 0\n",
    "for result_row in results:\n",
    "    datetime_str = result_row[2]\n",
    "    datetime_obj = datetime.fromisoformat(datetime_str)\n",
    "    date_val = datetime_obj.strftime('%Y-%m-%d %H:%M:%S')\n",
    "\n",
    "    id_val = result_row[0]\n",
    "\n",
    "    result_list.append({'phenopacket id': result_row[0],\n",
    "                        'creator': result_row[1],\n",
    "                        'creation date': date_val})\n",
    "    \n",
    "    result_nr += 1"
   ]
  },
  {
   "cell_type": "code",
   "execution_count": 41,
   "metadata": {},
   "outputs": [
    {
     "data": {
      "text/html": [
       "<div>\n",
       "<style scoped>\n",
       "    .dataframe tbody tr th:only-of-type {\n",
       "        vertical-align: middle;\n",
       "    }\n",
       "\n",
       "    .dataframe tbody tr th {\n",
       "        vertical-align: top;\n",
       "    }\n",
       "\n",
       "    .dataframe thead th {\n",
       "        text-align: right;\n",
       "    }\n",
       "</style>\n",
       "<table border=\"1\" class=\"dataframe\">\n",
       "  <thead>\n",
       "    <tr style=\"text-align: right;\">\n",
       "      <th></th>\n",
       "      <th>phenopacket id</th>\n",
       "      <th>creator</th>\n",
       "      <th>creation date</th>\n",
       "    </tr>\n",
       "  </thead>\n",
       "  <tbody>\n",
       "    <tr>\n",
       "      <th>0</th>\n",
       "      <td>PMID_26467218_individual_6_Cirstea_et_al__14</td>\n",
       "      <td>ORCID:0000-0002-0736-9199</td>\n",
       "      <td>2024-05-20 20:56:12</td>\n",
       "    </tr>\n",
       "    <tr>\n",
       "      <th>1</th>\n",
       "      <td>PMID_26467218_individual_11_Kraoua_et_al__23</td>\n",
       "      <td>ORCID:0000-0002-0736-9199</td>\n",
       "      <td>2024-05-20 20:56:12</td>\n",
       "    </tr>\n",
       "    <tr>\n",
       "      <th>2</th>\n",
       "      <td>PMID_26467218_individual_3_Denayer_et_al__22</td>\n",
       "      <td>ORCID:0000-0002-0736-9199</td>\n",
       "      <td>2024-05-20 20:56:12</td>\n",
       "    </tr>\n",
       "    <tr>\n",
       "      <th>3</th>\n",
       "      <td>PMID_26467218_individual_9_Cirstea_et_al__14</td>\n",
       "      <td>ORCID:0000-0002-0736-9199</td>\n",
       "      <td>2024-05-20 20:56:12</td>\n",
       "    </tr>\n",
       "    <tr>\n",
       "      <th>4</th>\n",
       "      <td>PMID_26467218_individual_4_Denayer_et_al__22</td>\n",
       "      <td>ORCID:0000-0002-0736-9199</td>\n",
       "      <td>2024-05-20 20:56:12</td>\n",
       "    </tr>\n",
       "    <tr>\n",
       "      <th>5</th>\n",
       "      <td>PMID_26467218_individual_12_Present_study</td>\n",
       "      <td>ORCID:0000-0002-0736-9199</td>\n",
       "      <td>2024-05-20 20:56:12</td>\n",
       "    </tr>\n",
       "    <tr>\n",
       "      <th>6</th>\n",
       "      <td>PMID_26467218_individual_1_De_Filippi_et_al__20</td>\n",
       "      <td>ORCID:0000-0002-0736-9199</td>\n",
       "      <td>2024-05-20 20:56:12</td>\n",
       "    </tr>\n",
       "    <tr>\n",
       "      <th>7</th>\n",
       "      <td>PMID_26467218_individual_2_Runtuwene_et_al__21</td>\n",
       "      <td>ORCID:0000-0002-0736-9199</td>\n",
       "      <td>2024-05-20 20:56:12</td>\n",
       "    </tr>\n",
       "    <tr>\n",
       "      <th>8</th>\n",
       "      <td>PMID_26467218_individual_9_M_Cirstea_et_al__14</td>\n",
       "      <td>ORCID:0000-0002-0736-9199</td>\n",
       "      <td>2024-05-20 20:56:12</td>\n",
       "    </tr>\n",
       "    <tr>\n",
       "      <th>9</th>\n",
       "      <td>PMID_26467218_individual_5_Denayer_et_al__22</td>\n",
       "      <td>ORCID:0000-0002-0736-9199</td>\n",
       "      <td>2024-05-20 20:56:12</td>\n",
       "    </tr>\n",
       "    <tr>\n",
       "      <th>10</th>\n",
       "      <td>PMID_26467218_individual_12_F_Present_study</td>\n",
       "      <td>ORCID:0000-0002-0736-9199</td>\n",
       "      <td>2024-05-20 20:56:12</td>\n",
       "    </tr>\n",
       "    <tr>\n",
       "      <th>11</th>\n",
       "      <td>PMID_26467218_individual_8_Cirstea_et_al__14</td>\n",
       "      <td>ORCID:0000-0002-0736-9199</td>\n",
       "      <td>2024-05-20 20:56:12</td>\n",
       "    </tr>\n",
       "    <tr>\n",
       "      <th>12</th>\n",
       "      <td>PMID_26467218_individual_10_Kraoua_et_al__23</td>\n",
       "      <td>ORCID:0000-0002-0736-9199</td>\n",
       "      <td>2024-05-20 20:56:12</td>\n",
       "    </tr>\n",
       "    <tr>\n",
       "      <th>13</th>\n",
       "      <td>PMID_26467218_individual_7_Cirstea_et_al__14</td>\n",
       "      <td>ORCID:0000-0002-0736-9199</td>\n",
       "      <td>2024-05-20 20:56:12</td>\n",
       "    </tr>\n",
       "  </tbody>\n",
       "</table>\n",
       "</div>"
      ],
      "text/plain": [
       "                                     phenopacket id  \\\n",
       "0      PMID_26467218_individual_6_Cirstea_et_al__14   \n",
       "1      PMID_26467218_individual_11_Kraoua_et_al__23   \n",
       "2      PMID_26467218_individual_3_Denayer_et_al__22   \n",
       "3      PMID_26467218_individual_9_Cirstea_et_al__14   \n",
       "4      PMID_26467218_individual_4_Denayer_et_al__22   \n",
       "5         PMID_26467218_individual_12_Present_study   \n",
       "6   PMID_26467218_individual_1_De_Filippi_et_al__20   \n",
       "7    PMID_26467218_individual_2_Runtuwene_et_al__21   \n",
       "8    PMID_26467218_individual_9_M_Cirstea_et_al__14   \n",
       "9      PMID_26467218_individual_5_Denayer_et_al__22   \n",
       "10      PMID_26467218_individual_12_F_Present_study   \n",
       "11     PMID_26467218_individual_8_Cirstea_et_al__14   \n",
       "12     PMID_26467218_individual_10_Kraoua_et_al__23   \n",
       "13     PMID_26467218_individual_7_Cirstea_et_al__14   \n",
       "\n",
       "                      creator        creation date  \n",
       "0   ORCID:0000-0002-0736-9199  2024-05-20 20:56:12  \n",
       "1   ORCID:0000-0002-0736-9199  2024-05-20 20:56:12  \n",
       "2   ORCID:0000-0002-0736-9199  2024-05-20 20:56:12  \n",
       "3   ORCID:0000-0002-0736-9199  2024-05-20 20:56:12  \n",
       "4   ORCID:0000-0002-0736-9199  2024-05-20 20:56:12  \n",
       "5   ORCID:0000-0002-0736-9199  2024-05-20 20:56:12  \n",
       "6   ORCID:0000-0002-0736-9199  2024-05-20 20:56:12  \n",
       "7   ORCID:0000-0002-0736-9199  2024-05-20 20:56:12  \n",
       "8   ORCID:0000-0002-0736-9199  2024-05-20 20:56:12  \n",
       "9   ORCID:0000-0002-0736-9199  2024-05-20 20:56:12  \n",
       "10  ORCID:0000-0002-0736-9199  2024-05-20 20:56:12  \n",
       "11  ORCID:0000-0002-0736-9199  2024-05-20 20:56:12  \n",
       "12  ORCID:0000-0002-0736-9199  2024-05-20 20:56:12  \n",
       "13  ORCID:0000-0002-0736-9199  2024-05-20 20:56:12  "
      ]
     },
     "metadata": {
      "scrapbook": {
       "mime_prefix": "",
       "name": "scenario5_phenopackets"
      }
     },
     "output_type": "display_data"
    }
   ],
   "source": [
    "phenopackets_df = pd.DataFrame(result_list)\n",
    "glue('scenario5_phenopackets', phenopackets_df)"
   ]
  },
  {
   "cell_type": "markdown",
   "metadata": {},
   "source": [
    "## Question 2"
   ]
  },
  {
   "cell_type": "markdown",
   "metadata": {},
   "source": [
    "What phenotypes and which diseases have been observed in these individuals and how often do they occur in this group of individuals?"
   ]
  },
  {
   "cell_type": "markdown",
   "metadata": {},
   "source": [
    "### Diseases"
   ]
  },
  {
   "cell_type": "code",
   "execution_count": 42,
   "metadata": {},
   "outputs": [
    {
     "data": {
      "text/plain": [
       "'PREFIX ex: <https://example.org/>\\nPREFIX obo: <http://purl.obolibrary.org/obo/>\\nPREFIX sio: <http://semanticscience.org/resource/>\\nPREFIX dcterms: <http://purl.org/dc/terms/> \\nPREFIX rdfs: <http://www.w3.org/2000/01/rdf-schema#>\\n\\nSELECT ?idvalue ?diseaseid ?diseaselabel\\nWHERE {\\n    # Find relevant phenopackets\\n    ?id a obo:IAO_0020000 ;\\n        sio:SIO_000300 ?idvalue .\\n    VALUES ?idvalue { \"PMID_26467218_individual_6_Cirstea_et_al__14\" \"PMID_26467218_individual_11_Kraoua_et_al__23\" \"PMID_26467218_individual_3_Denayer_et_al__22\" \"PMID_26467218_individual_9_Cirstea_et_al__14\" \"PMID_26467218_individual_4_Denayer_et_al__22\" \"PMID_26467218_individual_12_Present_study\" \"PMID_26467218_individual_1_De_Filippi_et_al__20\" \"PMID_26467218_individual_2_Runtuwene_et_al__21\" \"PMID_26467218_individual_9_M_Cirstea_et_al__14\" \"PMID_26467218_individual_5_Denayer_et_al__22\" \"PMID_26467218_individual_12_F_Present_study\" \"PMID_26467218_individual_8_Cirstea_et_al__14\" \"PMID_26467218_individual_10_Kraoua_et_al__23\" \"PMID_26467218_individual_7_Cirstea_et_al__14\" } .\\n    \\n    # Find diagnosis\\n    ?id sio:SIO_000020 ?role .\\n    ?phenopacket sio:SIO_000228 ?role ;\\n                 sio:SIO_001403 ?interpr .\\n    ?interpr a obo:NCIT_C41255 ;\\n             sio:SIO_001403 ?diagnosis .\\n    ?diagnosis a sio:SIO_000614 ;\\n               sio:SIO_001403 ?disease .\\n    ?diseaseval a obo:NCIT_C2991 ;\\n                sio:SIO_000628 ?disease .\\n    ?disease rdfs:label ?diseaselabel ;\\n             dcterms:identifier ?diseaseid .\\n}'"
      ]
     },
     "metadata": {
      "scrapbook": {
       "mime_prefix": "",
       "name": "scenario5_query_q2a"
      }
     },
     "output_type": "display_data"
    }
   ],
   "source": [
    "phenopacket_ids = phenopackets_df['phenopacket id'].tolist()\n",
    "quoted_phenopacket_ids = [f'\"{id_value}\"' for id_value in phenopacket_ids]\n",
    "query_ids_list_str = ' '.join(quoted_phenopacket_ids)\n",
    "\n",
    "with open(f'SPARQL/scenario_{SCENARIO_NR}/question2_a.rq', 'r') as file:\n",
    "    query2 = file.read()\n",
    "\n",
    "query2 = query2.replace('VAR_ID_LIST', query_ids_list_str)\n",
    "glue('scenario5_query_q2a', query2)"
   ]
  },
  {
   "cell_type": "code",
   "execution_count": 43,
   "metadata": {},
   "outputs": [],
   "source": [
    "results = g.query(query2)\n",
    "\n",
    "diseases_list = []\n",
    "\n",
    "for result_row in results:\n",
    "    diseases_list.append({'phenopacket id': result_row[0], \n",
    "                          'disease ID': result_row[1],\n",
    "                          'disease label': result_row[2]})"
   ]
  },
  {
   "cell_type": "code",
   "execution_count": 44,
   "metadata": {},
   "outputs": [
    {
     "data": {
      "text/html": [
       "<div>\n",
       "<style scoped>\n",
       "    .dataframe tbody tr th:only-of-type {\n",
       "        vertical-align: middle;\n",
       "    }\n",
       "\n",
       "    .dataframe tbody tr th {\n",
       "        vertical-align: top;\n",
       "    }\n",
       "\n",
       "    .dataframe thead th {\n",
       "        text-align: right;\n",
       "    }\n",
       "</style>\n",
       "<table border=\"1\" class=\"dataframe\">\n",
       "  <thead>\n",
       "    <tr style=\"text-align: right;\">\n",
       "      <th></th>\n",
       "      <th>phenopacket id</th>\n",
       "      <th>disease ID</th>\n",
       "      <th>disease label</th>\n",
       "    </tr>\n",
       "  </thead>\n",
       "  <tbody>\n",
       "    <tr>\n",
       "      <th>0</th>\n",
       "      <td>PMID_26467218_individual_6_Cirstea_et_al__14</td>\n",
       "      <td>OMIM:613224</td>\n",
       "      <td>Noonan syndrome 6</td>\n",
       "    </tr>\n",
       "    <tr>\n",
       "      <th>1</th>\n",
       "      <td>PMID_26467218_individual_11_Kraoua_et_al__23</td>\n",
       "      <td>OMIM:613224</td>\n",
       "      <td>Noonan syndrome 6</td>\n",
       "    </tr>\n",
       "    <tr>\n",
       "      <th>2</th>\n",
       "      <td>PMID_26467218_individual_3_Denayer_et_al__22</td>\n",
       "      <td>OMIM:613224</td>\n",
       "      <td>Noonan syndrome 6</td>\n",
       "    </tr>\n",
       "    <tr>\n",
       "      <th>3</th>\n",
       "      <td>PMID_26467218_individual_9_Cirstea_et_al__14</td>\n",
       "      <td>OMIM:613224</td>\n",
       "      <td>Noonan syndrome 6</td>\n",
       "    </tr>\n",
       "    <tr>\n",
       "      <th>4</th>\n",
       "      <td>PMID_26467218_individual_4_Denayer_et_al__22</td>\n",
       "      <td>OMIM:613224</td>\n",
       "      <td>Noonan syndrome 6</td>\n",
       "    </tr>\n",
       "    <tr>\n",
       "      <th>5</th>\n",
       "      <td>PMID_26467218_individual_12_Present_study</td>\n",
       "      <td>OMIM:613224</td>\n",
       "      <td>Noonan syndrome 6</td>\n",
       "    </tr>\n",
       "    <tr>\n",
       "      <th>6</th>\n",
       "      <td>PMID_26467218_individual_1_De_Filippi_et_al__20</td>\n",
       "      <td>OMIM:613224</td>\n",
       "      <td>Noonan syndrome 6</td>\n",
       "    </tr>\n",
       "    <tr>\n",
       "      <th>7</th>\n",
       "      <td>PMID_26467218_individual_2_Runtuwene_et_al__21</td>\n",
       "      <td>OMIM:613224</td>\n",
       "      <td>Noonan syndrome 6</td>\n",
       "    </tr>\n",
       "    <tr>\n",
       "      <th>8</th>\n",
       "      <td>PMID_26467218_individual_9_M_Cirstea_et_al__14</td>\n",
       "      <td>OMIM:613224</td>\n",
       "      <td>Noonan syndrome 6</td>\n",
       "    </tr>\n",
       "    <tr>\n",
       "      <th>9</th>\n",
       "      <td>PMID_26467218_individual_5_Denayer_et_al__22</td>\n",
       "      <td>OMIM:613224</td>\n",
       "      <td>Noonan syndrome 6</td>\n",
       "    </tr>\n",
       "    <tr>\n",
       "      <th>10</th>\n",
       "      <td>PMID_26467218_individual_12_F_Present_study</td>\n",
       "      <td>OMIM:613224</td>\n",
       "      <td>Noonan syndrome 6</td>\n",
       "    </tr>\n",
       "    <tr>\n",
       "      <th>11</th>\n",
       "      <td>PMID_26467218_individual_8_Cirstea_et_al__14</td>\n",
       "      <td>OMIM:613224</td>\n",
       "      <td>Noonan syndrome 6</td>\n",
       "    </tr>\n",
       "    <tr>\n",
       "      <th>12</th>\n",
       "      <td>PMID_26467218_individual_10_Kraoua_et_al__23</td>\n",
       "      <td>OMIM:613224</td>\n",
       "      <td>Noonan syndrome 6</td>\n",
       "    </tr>\n",
       "    <tr>\n",
       "      <th>13</th>\n",
       "      <td>PMID_26467218_individual_7_Cirstea_et_al__14</td>\n",
       "      <td>OMIM:613224</td>\n",
       "      <td>Noonan syndrome 6</td>\n",
       "    </tr>\n",
       "  </tbody>\n",
       "</table>\n",
       "</div>"
      ],
      "text/plain": [
       "                                     phenopacket id   disease ID  \\\n",
       "0      PMID_26467218_individual_6_Cirstea_et_al__14  OMIM:613224   \n",
       "1      PMID_26467218_individual_11_Kraoua_et_al__23  OMIM:613224   \n",
       "2      PMID_26467218_individual_3_Denayer_et_al__22  OMIM:613224   \n",
       "3      PMID_26467218_individual_9_Cirstea_et_al__14  OMIM:613224   \n",
       "4      PMID_26467218_individual_4_Denayer_et_al__22  OMIM:613224   \n",
       "5         PMID_26467218_individual_12_Present_study  OMIM:613224   \n",
       "6   PMID_26467218_individual_1_De_Filippi_et_al__20  OMIM:613224   \n",
       "7    PMID_26467218_individual_2_Runtuwene_et_al__21  OMIM:613224   \n",
       "8    PMID_26467218_individual_9_M_Cirstea_et_al__14  OMIM:613224   \n",
       "9      PMID_26467218_individual_5_Denayer_et_al__22  OMIM:613224   \n",
       "10      PMID_26467218_individual_12_F_Present_study  OMIM:613224   \n",
       "11     PMID_26467218_individual_8_Cirstea_et_al__14  OMIM:613224   \n",
       "12     PMID_26467218_individual_10_Kraoua_et_al__23  OMIM:613224   \n",
       "13     PMID_26467218_individual_7_Cirstea_et_al__14  OMIM:613224   \n",
       "\n",
       "        disease label  \n",
       "0   Noonan syndrome 6  \n",
       "1   Noonan syndrome 6  \n",
       "2   Noonan syndrome 6  \n",
       "3   Noonan syndrome 6  \n",
       "4   Noonan syndrome 6  \n",
       "5   Noonan syndrome 6  \n",
       "6   Noonan syndrome 6  \n",
       "7   Noonan syndrome 6  \n",
       "8   Noonan syndrome 6  \n",
       "9   Noonan syndrome 6  \n",
       "10  Noonan syndrome 6  \n",
       "11  Noonan syndrome 6  \n",
       "12  Noonan syndrome 6  \n",
       "13  Noonan syndrome 6  "
      ]
     },
     "metadata": {
      "scrapbook": {
       "mime_prefix": "",
       "name": "scenario5_diseases"
      }
     },
     "output_type": "display_data"
    }
   ],
   "source": [
    "diseases_df = pd.DataFrame(diseases_list)\n",
    "glue('scenario5_diseases', diseases_df)"
   ]
  },
  {
   "cell_type": "markdown",
   "metadata": {},
   "source": [
    "### Phenotypes"
   ]
  },
  {
   "cell_type": "markdown",
   "metadata": {},
   "source": [
    "# Notes"
   ]
  },
  {
   "cell_type": "code",
   "execution_count": 14,
   "metadata": {},
   "outputs": [
    {
     "name": "stdout",
     "output_type": "stream",
     "text": [
      "(rdflib.term.URIRef('http://purl.obolibrary.org/obo/HP_0000465'), rdflib.term.Literal('Webbed neck', datatype=rdflib.term.URIRef('http://www.w3.org/2001/XMLSchema#string')))\n",
      "(rdflib.term.URIRef('http://purl.obolibrary.org/obo/HP_0000468'), rdflib.term.Literal('Increased adipose tissue around the neck', datatype=rdflib.term.URIRef('http://www.w3.org/2001/XMLSchema#string')))\n",
      "(rdflib.term.URIRef('http://purl.obolibrary.org/obo/HP_0000470'), rdflib.term.Literal('Short neck', datatype=rdflib.term.URIRef('http://www.w3.org/2001/XMLSchema#string')))\n",
      "(rdflib.term.URIRef('http://purl.obolibrary.org/obo/HP_0000472'), rdflib.term.Literal('Long neck', datatype=rdflib.term.URIRef('http://www.w3.org/2001/XMLSchema#string')))\n",
      "(rdflib.term.URIRef('http://purl.obolibrary.org/obo/HP_0000475'), rdflib.term.Literal('Broad neck', datatype=rdflib.term.URIRef('http://www.w3.org/2001/XMLSchema#string')))\n",
      "(rdflib.term.URIRef('http://purl.obolibrary.org/obo/HP_0000476'), rdflib.term.Literal('Cystic hygroma', datatype=rdflib.term.URIRef('http://www.w3.org/2001/XMLSchema#string')))\n",
      "(rdflib.term.URIRef('http://purl.obolibrary.org/obo/HP_0002162'), rdflib.term.Literal('Low posterior hairline', datatype=rdflib.term.URIRef('http://www.w3.org/2001/XMLSchema#string')))\n",
      "(rdflib.term.URIRef('http://purl.obolibrary.org/obo/HP_0005989'), rdflib.term.Literal('Redundant neck skin', datatype=rdflib.term.URIRef('http://www.w3.org/2001/XMLSchema#string')))\n",
      "(rdflib.term.URIRef('http://purl.obolibrary.org/obo/HP_0008984'), rdflib.term.Literal('Neck muscle hypoplasia', datatype=rdflib.term.URIRef('http://www.w3.org/2001/XMLSchema#string')))\n",
      "(rdflib.term.URIRef('http://purl.obolibrary.org/obo/HP_0009794'), rdflib.term.Literal('Branchial anomaly', datatype=rdflib.term.URIRef('http://www.w3.org/2001/XMLSchema#string')))\n",
      "(rdflib.term.URIRef('http://purl.obolibrary.org/obo/HP_0011006'), rdflib.term.Literal('Abnormal morphology of the musculature of the neck', datatype=rdflib.term.URIRef('http://www.w3.org/2001/XMLSchema#string')))\n",
      "(rdflib.term.URIRef('http://purl.obolibrary.org/obo/HP_0025667'), rdflib.term.Literal('Fetal neck anomaly', datatype=rdflib.term.URIRef('http://www.w3.org/2001/XMLSchema#string')))\n",
      "(rdflib.term.URIRef('http://purl.obolibrary.org/obo/HP_3000037'), rdflib.term.Literal('Abnormal neck blood vessel morphology', datatype=rdflib.term.URIRef('http://www.w3.org/2001/XMLSchema#string')))\n",
      "(rdflib.term.URIRef('http://purl.obolibrary.org/obo/HP_3000067'), rdflib.term.Literal('Abnormal lateral cricoarytenoid muscle morphology', datatype=rdflib.term.URIRef('http://www.w3.org/2001/XMLSchema#string')))\n",
      "(rdflib.term.URIRef('http://purl.obolibrary.org/obo/HP_6000174'), rdflib.term.Literal('Lateral neck mass', datatype=rdflib.term.URIRef('http://www.w3.org/2001/XMLSchema#string')))\n",
      "(rdflib.term.URIRef('http://purl.obolibrary.org/obo/HP_6000176'), rdflib.term.Literal('Anterior neck swelling', datatype=rdflib.term.URIRef('http://www.w3.org/2001/XMLSchema#string')))\n"
     ]
    }
   ],
   "source": [
    "query = \"\"\"\n",
    "    PREFIX rdfs: <http://www.w3.org/2000/01/rdf-schema#>\n",
    "    PREFIX obo: <http://purl.obolibrary.org/obo/>\n",
    "\n",
    "    SELECT ?child ?label\n",
    "    WHERE {{\n",
    "        ?child rdfs:subClassOf obo:HP_0025668 .\n",
    "        ?child rdfs:label ?label .\n",
    "    }}\n",
    "\"\"\"\n",
    "\n",
    "# Execute the query\n",
    "results = g.query(query)\n",
    "\n",
    "# Print results\n",
    "for row in results:\n",
    "    print(row)"
   ]
  }
 ],
 "metadata": {
  "kernelspec": {
   "display_name": ".venv",
   "language": "python",
   "name": "python3"
  },
  "language_info": {
   "codemirror_mode": {
    "name": "ipython",
    "version": 3
   },
   "file_extension": ".py",
   "mimetype": "text/x-python",
   "name": "python",
   "nbconvert_exporter": "python",
   "pygments_lexer": "ipython3",
   "version": "3.12.3"
  }
 },
 "nbformat": 4,
 "nbformat_minor": 2
}

{
 "cells": [
  {
   "cell_type": "code",
   "execution_count": 32,
   "metadata": {},
   "outputs": [],
   "source": [
    "import os\n",
    "import rdflib"
   ]
  },
  {
   "cell_type": "markdown",
   "metadata": {},
   "source": [
    "# Loading RDF Datasets"
   ]
  },
  {
   "cell_type": "code",
   "execution_count": 33,
   "metadata": {},
   "outputs": [],
   "source": [
    "def get_rdf_filenames(dirname: str):\n",
    "    \"\"\"  \"\"\"\n",
    "    rdf_filenames = []\n",
    "    for filename in os.listdir(dirname):\n",
    "        file_path = os.path.join(dirname, filename)\n",
    "        if os.path.isfile(file_path) and filename.split('.')[-1] == 'ttl':\n",
    "            rdf_filenames.append(filename)\n",
    "    return rdf_filenames\n",
    "\n",
    "def load_rdf_files(dirnames: list):\n",
    "    \"\"\"  \"\"\"\n",
    "    g = rdflib.Graph()\n",
    "\n",
    "    for dirname in dirnames:\n",
    "        print(f'Load RDF data from directory {dirname} into RDF graph.')\n",
    "    \n",
    "        rdf_filenames = get_rdf_filenames(dirname)\n",
    "        for rdf_filename in rdf_filenames:\n",
    "            g.parse(f'{dirname}/{rdf_filename}')\n",
    "\n",
    "    return g"
   ]
  },
  {
   "cell_type": "code",
   "execution_count": 34,
   "metadata": {},
   "outputs": [
    {
     "name": "stdout",
     "output_type": "stream",
     "text": [
      "Load RDF data from directory HAMLET_DATA into RDF graph.\n",
      "Load RDF data from directory MONARCH_PHENOPACKET_STORE_DATA into RDF graph.\n"
     ]
    }
   ],
   "source": [
    "rdf_dirnames = ['HAMLET_DATA', 'MONARCH_PHENOPACKET_STORE_DATA']\n",
    "g = load_rdf_files(rdf_dirnames)"
   ]
  },
  {
   "cell_type": "markdown",
   "metadata": {},
   "source": [
    "# SPARQL Queries"
   ]
  },
  {
   "cell_type": "code",
   "execution_count": 35,
   "metadata": {},
   "outputs": [],
   "source": [
    "query = \"\"\"\n",
    "    PREFIX ex: <https://example.org/>\n",
    "    PREFIX obo: <http://purl.obolibrary.org/obo/>\n",
    "    PREFIX sio: <http://semanticscience.org/resource/>\n",
    "\n",
    "    SELECT ?idvalue\n",
    "    WHERE {\n",
    "        ?phenopacket a obo:NCIT_C79269 .\n",
    "        ?role a obo:NCIT_C48835 .\n",
    "        ?phenopacket sio:SIO_000228 ?role .\n",
    "        ?id a obo:IAO_0020000 .\n",
    "        ?id sio:SIO_000020 ?role .\n",
    "        ?id sio:SIO_000300 ?idvalue .\n",
    "    }\n",
    "\"\"\""
   ]
  },
  {
   "cell_type": "code",
   "execution_count": 36,
   "metadata": {},
   "outputs": [],
   "source": [
    "results = g.query(query)\n",
    "\n",
    "id_values = []\n",
    "\n",
    "for result_row in results:\n",
    "    phenopacket_id = str(result_row[0])\n",
    "    id_values.append(phenopacket_id)"
   ]
  },
  {
   "cell_type": "code",
   "execution_count": 37,
   "metadata": {},
   "outputs": [
    {
     "data": {
      "text/plain": [
       "'new-reference-files'"
      ]
     },
     "metadata": {
      "scrapbook": {
       "mime_prefix": "",
       "name": "phenopacket_id"
      }
     },
     "output_type": "display_data"
    }
   ],
   "source": [
    "from myst_nb import glue\n",
    "\n",
    "glue('phenopacket_id', id_values[0])"
   ]
  }
 ],
 "metadata": {
  "kernelspec": {
   "display_name": ".venv",
   "language": "python",
   "name": "python3"
  },
  "language_info": {
   "codemirror_mode": {
    "name": "ipython",
    "version": 3
   },
   "file_extension": ".py",
   "mimetype": "text/x-python",
   "name": "python",
   "nbconvert_exporter": "python",
   "pygments_lexer": "ipython3",
   "version": "3.12.3"
  }
 },
 "nbformat": 4,
 "nbformat_minor": 2
}

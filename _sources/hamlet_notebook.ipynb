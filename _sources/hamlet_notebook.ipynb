{
 "cells": [
  {
   "cell_type": "code",
   "execution_count": 12,
   "metadata": {},
   "outputs": [],
   "source": [
    "import os\n",
    "import rdflib\n",
    "import oxrdflib\n",
    "import pandas as pd\n",
    "\n",
    "from pygments import highlight\n",
    "from pygments.lexers import SparqlLexer\n",
    "from pygments.formatters import HtmlFormatter\n",
    "from IPython.display import HTML\n",
    "\n",
    "from myst_nb import glue"
   ]
  },
  {
   "cell_type": "markdown",
   "metadata": {},
   "source": [
    "# Loading RDF Datasets"
   ]
  },
  {
   "cell_type": "markdown",
   "metadata": {},
   "source": [
    "To simulate querying over different data source services, the RDF datasets are stored in a conjunctive graph in which each graph being the graph for the HAMLET RDF data and the graph for the PHENOPACKET-STORE data have their own keyword."
   ]
  },
  {
   "cell_type": "code",
   "execution_count": 3,
   "metadata": {},
   "outputs": [],
   "source": [
    "def get_rdf_filenames(dirname: str):\n",
    "    \"\"\" \n",
    "        Get the RDF filenames in Turtle format given the directory. \n",
    "    \"\"\"\n",
    "    rdf_filenames = []\n",
    "    for filename in os.listdir(dirname):\n",
    "        file_path = os.path.join(dirname, filename)\n",
    "        if os.path.isfile(file_path) and filename.split('.')[-1] == 'ttl':\n",
    "            rdf_filenames.append(filename)\n",
    "    return rdf_filenames\n",
    "\n",
    "def load_rdf_files(dirnames: list):\n",
    "    \"\"\" \n",
    "        Load the RDF files into separate graphs and then combine into a conjunctive graph with their keyword\n",
    "        to simulate separate service data sources. \n",
    "    \"\"\"\n",
    "    service_graphs = []\n",
    "\n",
    "    for dirname in dirnames:\n",
    "        print(f'Load RDF data from directory {dirname} into RDF graph.')\n",
    "        g = rdflib.Graph(store=oxrdflib.OxigraphStore())\n",
    "    \n",
    "        rdf_filenames = get_rdf_filenames(dirname)\n",
    "        for rdf_filename in rdf_filenames:\n",
    "            g.parse(f'{dirname}/{rdf_filename}')\n",
    "\n",
    "        service_graphs.append({'service': rdflib.URIRef(f'http://example.org/{dirname}'), 'graph': g})\n",
    "\n",
    "    combined_g = rdflib.ConjunctiveGraph(store=oxrdflib.OxigraphStore())\n",
    "    for service_graph in service_graphs:\n",
    "        print(f'Add graph of service {service_graph['service']}')\n",
    "        combined_g.addN((s, p, o, service_graph['service']) for s, p, o in service_graph['graph'])\n",
    "\n",
    "    return combined_g"
   ]
  },
  {
   "cell_type": "code",
   "execution_count": 4,
   "metadata": {},
   "outputs": [
    {
     "name": "stdout",
     "output_type": "stream",
     "text": [
      "Load RDF data from directory HAMLET_DATA into RDF graph.\n",
      "Load RDF data from directory MONARCH_PHENOPACKET_STORE_DATA into RDF graph.\n",
      "Add graph of service http://example.org/HAMLET_DATA\n",
      "Add graph of service http://example.org/MONARCH_PHENOPACKET_STORE_DATA\n"
     ]
    }
   ],
   "source": [
    "rdf_dirnames = ['HAMLET_DATA', 'MONARCH_PHENOPACKET_STORE_DATA']\n",
    "g = load_rdf_files(rdf_dirnames)"
   ]
  },
  {
   "cell_type": "markdown",
   "metadata": {},
   "source": [
    "# SPARQL Queries"
   ]
  },
  {
   "cell_type": "markdown",
   "metadata": {},
   "source": [
    "The query that is loaded below accesses the conjunctive graph explicitly given the keywords of each individual graph using function GRAPH to simulate the SERVICE functionality of SPARQL."
   ]
  },
  {
   "cell_type": "code",
   "execution_count": 5,
   "metadata": {},
   "outputs": [],
   "source": [
    "def get_prettyprint_sparql_query(query: str):\n",
    "    \"\"\" Get the given string representing a SPARQL query in a readable manner. \"\"\"\n",
    "    lexer = SparqlLexer()\n",
    "    formatter = HtmlFormatter(style='colorful')\n",
    "    highlighted_query = highlight(query, lexer, formatter)\n",
    "    return HTML(highlighted_query)"
   ]
  },
  {
   "cell_type": "code",
   "execution_count": 6,
   "metadata": {},
   "outputs": [],
   "source": [
    "SCENARIO_NR = 4"
   ]
  },
  {
   "cell_type": "markdown",
   "metadata": {},
   "source": [
    "## Question 1\n",
    "\n",
    "**Have patients been observed with variants in the same gene and the same diagnosis?**"
   ]
  },
  {
   "cell_type": "markdown",
   "metadata": {},
   "source": [
    "From the single AML cell line phenopacket from the HAMLET dataset, all mutated genes are found that are as follows used to find the phenopackets from the PHENOPACKET-STORE data that have mutations in at least one of the same genes."
   ]
  },
  {
   "cell_type": "code",
   "execution_count": 7,
   "metadata": {},
   "outputs": [
    {
     "data": {
      "text/html": [
       "<div class=\"highlight\"><pre><span></span><span class=\"k\">PREFIX</span> <span class=\"nn\">ex</span><span class=\"p\">:</span> <span class=\"nl\">&lt;https://example.org/&gt;</span>\n",
       "<span class=\"k\">PREFIX</span> <span class=\"nn\">obo</span><span class=\"p\">:</span> <span class=\"nl\">&lt;http://purl.obolibrary.org/obo/&gt;</span>\n",
       "<span class=\"k\">PREFIX</span> <span class=\"nn\">sio</span><span class=\"p\">:</span> <span class=\"nl\">&lt;http://semanticscience.org/resource/&gt;</span>\n",
       "<span class=\"k\">PREFIX</span> <span class=\"nn\">dcterms</span><span class=\"p\">:</span> <span class=\"nl\">&lt;http://purl.org/dc/terms/&gt;</span> \n",
       "\n",
       "<span class=\"k\">PREFIX</span> <span class=\"nn\">ex</span><span class=\"p\">:</span> <span class=\"nl\">&lt;https://example.org/&gt;</span>\n",
       "<span class=\"k\">PREFIX</span> <span class=\"nn\">obo</span><span class=\"p\">:</span> <span class=\"nl\">&lt;http://purl.obolibrary.org/obo/&gt;</span>\n",
       "<span class=\"k\">PREFIX</span> <span class=\"nn\">sio</span><span class=\"p\">:</span> <span class=\"nl\">&lt;http://semanticscience.org/resource/&gt;</span>\n",
       "<span class=\"k\">PREFIX</span> <span class=\"nn\">dcterms</span><span class=\"p\">:</span> <span class=\"nl\">&lt;http://purl.org/dc/terms/&gt;</span> \n",
       "<span class=\"k\">PREFIX</span> <span class=\"nn\">rdfs</span><span class=\"p\">:</span> <span class=\"nl\">&lt;http://www.w3.org/2000/01/rdf-schema#&gt;</span>\n",
       "\n",
       "<span class=\"k\">SELECT</span> <span class=\"nv\">?genesymbolvalue</span> <span class=\"nv\">?otherdiagnosis</span> <span class=\"nv\">?otherdiseaseid</span> <span class=\"nv\">?otherdiseaselabel</span>\n",
       "<span class=\"k\">WHERE</span> <span class=\"p\">{</span>\n",
       "    <span class=\"k\">GRAPH</span> <span class=\"nl\">&lt;http://example.org/HAMLET_DATA&gt;</span> <span class=\"p\">{</span>\n",
       "        <span class=\"c\"># Find phenopacket of AML cell line given its ID (&#39;new-reference-files&#39;)</span>\n",
       "        <span class=\"nv\">?phenopacket</span> <span class=\"k\">a</span> <span class=\"nn\">obo</span><span class=\"p\">:</span><span class=\"nt\">NCIT_C79269</span> <span class=\"p\">;</span>\n",
       "                    <span class=\"nn\">sio</span><span class=\"p\">:</span><span class=\"nt\">SIO_000228</span> <span class=\"nv\">?role</span> <span class=\"p\">.</span>\n",
       "        <span class=\"nv\">?id</span> <span class=\"nn\">sio</span><span class=\"p\">:</span><span class=\"nt\">SIO_000020</span> <span class=\"nv\">?role</span> <span class=\"p\">;</span>\n",
       "            <span class=\"nn\">sio</span><span class=\"p\">:</span><span class=\"nt\">SIO_000300</span> <span class=\"s\">&quot;new-reference-files&quot;</span> <span class=\"p\">.</span>\n",
       "    \n",
       "        <span class=\"c\"># Find all genomic interpretations related to given phenopacket ID</span>\n",
       "        <span class=\"nv\">?phenopacket</span> <span class=\"nn\">sio</span><span class=\"p\">:</span><span class=\"nt\">SIO_001403</span> <span class=\"nv\">?interpr</span> <span class=\"p\">.</span>\n",
       "        <span class=\"nv\">?interpr</span> <span class=\"k\">a</span> <span class=\"nn\">obo</span><span class=\"p\">:</span><span class=\"nt\">NCIT_C41255</span> <span class=\"p\">;</span>\n",
       "                <span class=\"nn\">sio</span><span class=\"p\">:</span><span class=\"nt\">SIO_001403</span> <span class=\"nv\">?diagnosis</span> <span class=\"p\">.</span>\n",
       "        <span class=\"nv\">?diagnosis</span> <span class=\"nn\">sio</span><span class=\"p\">:</span><span class=\"nt\">SIO_001403</span> <span class=\"nv\">?genomicinterpr</span> <span class=\"p\">.</span>\n",
       "        <span class=\"nv\">?genomicinterpr</span> <span class=\"k\">a</span> <span class=\"nn\">obo</span><span class=\"p\">:</span><span class=\"nt\">SO_0001026</span> <span class=\"p\">.</span>\n",
       "        \n",
       "        <span class=\"c\"># Find the genes that are relevant to the genomic interpretations</span>\n",
       "        <span class=\"nv\">?genomicinterpr</span> <span class=\"nn\">sio</span><span class=\"p\">:</span><span class=\"nt\">SIO_001403</span> <span class=\"nv\">?varinterpr</span> <span class=\"p\">.</span>\n",
       "        <span class=\"nv\">?varinterpr</span> <span class=\"k\">a</span> <span class=\"nn\">obo</span><span class=\"p\">:</span><span class=\"nt\">SO_0001060</span> <span class=\"p\">;</span>\n",
       "                    <span class=\"nn\">sio</span><span class=\"p\">:</span><span class=\"nt\">SIO_001403</span> <span class=\"nv\">?vardescr</span> <span class=\"p\">.</span>\n",
       "        <span class=\"nv\">?vardescr</span> <span class=\"k\">a</span> <span class=\"nn\">obo</span><span class=\"p\">:</span><span class=\"nt\">NCIT_C97927</span> <span class=\"p\">;</span>\n",
       "                <span class=\"nn\">sio</span><span class=\"p\">:</span><span class=\"nt\">SIO_001403</span> <span class=\"nv\">?genedescr</span> <span class=\"p\">.</span>\n",
       "        <span class=\"nv\">?genedescr</span> <span class=\"k\">a</span> <span class=\"nn\">obo</span><span class=\"p\">:</span><span class=\"nt\">NCIT_C16612</span> <span class=\"p\">;</span>\n",
       "                <span class=\"nn\">dcterms</span><span class=\"p\">:</span><span class=\"nt\">identifier</span> <span class=\"nv\">?geneid</span> <span class=\"p\">;</span>\n",
       "                <span class=\"nn\">sio</span><span class=\"p\">:</span><span class=\"nt\">SIO_000008</span> <span class=\"nv\">?genesymbol</span> <span class=\"p\">.</span>\n",
       "        <span class=\"nv\">?genesymbol</span> <span class=\"nn\">sio</span><span class=\"p\">:</span><span class=\"nt\">SIO_000300</span> <span class=\"nv\">?genesymbolvalue</span> <span class=\"p\">.</span>\n",
       "    <span class=\"p\">}</span>\n",
       "    <span class=\"k\">GRAPH</span> <span class=\"nl\">&lt;http://example.org/MONARCH_PHENOPACKET_STORE_DATA&gt;</span> <span class=\"p\">{</span>\n",
       "        <span class=\"c\"># Find all diagnosed diseases where a mutation is found in same genes as given phenopacket</span>\n",
       "        <span class=\"nv\">?othergenesymbol</span> <span class=\"nn\">sio</span><span class=\"p\">:</span><span class=\"nt\">SIO_000300</span> <span class=\"nv\">?genesymbolvalue</span> <span class=\"p\">.</span>\n",
       "        <span class=\"nv\">?othergenedescr</span> <span class=\"nn\">sio</span><span class=\"p\">:</span><span class=\"nt\">SIO_000008</span> <span class=\"nv\">?othergenesymbol</span> <span class=\"p\">;</span>\n",
       "                        <span class=\"nn\">dcterms</span><span class=\"p\">:</span><span class=\"nt\">identifier</span> <span class=\"nv\">?othergeneid</span> <span class=\"p\">.</span>\n",
       "        <span class=\"nv\">?othervardescr</span> <span class=\"nn\">sio</span><span class=\"p\">:</span><span class=\"nt\">SIO_001403</span> <span class=\"nv\">?othergenedescr</span> <span class=\"p\">.</span>\n",
       "        <span class=\"nv\">?othervarinterpr</span> <span class=\"nn\">sio</span><span class=\"p\">:</span><span class=\"nt\">SIO_001403</span> <span class=\"nv\">?othervardescr</span> <span class=\"p\">.</span>\n",
       "        <span class=\"nv\">?othergenomicinterp</span> <span class=\"nn\">sio</span><span class=\"p\">:</span><span class=\"nt\">SIO_001403</span> <span class=\"nv\">?othervarinterpr</span> <span class=\"p\">.</span>\n",
       "        <span class=\"nv\">?otherdiagnosis</span> <span class=\"nn\">sio</span><span class=\"p\">:</span><span class=\"nt\">SIO_001403</span> <span class=\"nv\">?othergenomicinterp</span> <span class=\"p\">.</span>\n",
       "        <span class=\"nv\">?otherdiagnosis</span> <span class=\"nn\">sio</span><span class=\"p\">:</span><span class=\"nt\">SIO_001403</span> <span class=\"nv\">?otherdisease</span> <span class=\"p\">.</span>\n",
       "        <span class=\"nv\">?otherdiseasevalue</span> <span class=\"nn\">sio</span><span class=\"p\">:</span><span class=\"nt\">SIO_000628</span> <span class=\"nv\">?otherdisease</span> <span class=\"p\">;</span>\n",
       "                        <span class=\"k\">a</span> <span class=\"nn\">obo</span><span class=\"p\">:</span><span class=\"nt\">NCIT_C2991</span> <span class=\"p\">.</span>\n",
       "        <span class=\"nv\">?otherdisease</span> <span class=\"nn\">dcterms</span><span class=\"p\">:</span><span class=\"nt\">identifier</span> <span class=\"nv\">?otherdiseaseid</span> <span class=\"p\">;</span>\n",
       "                    <span class=\"nn\">rdfs</span><span class=\"p\">:</span><span class=\"nt\">label</span> <span class=\"nv\">?otherdiseaselabel</span> <span class=\"p\">;</span>\n",
       "    <span class=\"p\">}</span>\n",
       "    \n",
       "    <span class=\"c\"># Remove diagnosis of already given phenopacket</span>\n",
       "    <span class=\"k\">FILTER</span> <span class=\"p\">(</span><span class=\"nv\">?diagnosis</span> <span class=\"o\">!=</span> <span class=\"nv\">?otherdiagnosis</span><span class=\"p\">)</span>\n",
       "<span class=\"p\">}</span>\n",
       "</pre></div>\n"
      ],
      "text/plain": [
       "<IPython.core.display.HTML object>"
      ]
     },
     "execution_count": 7,
     "metadata": {},
     "output_type": "execute_result"
    }
   ],
   "source": [
    "with open(f'SPARQL/scenario_{SCENARIO_NR}/question1_a.rq', 'r') as file:\n",
    "    query = file.read()\n",
    "\n",
    "get_prettyprint_sparql_query(query)"
   ]
  },
  {
   "cell_type": "code",
   "execution_count": 8,
   "metadata": {},
   "outputs": [],
   "source": [
    "results = g.query(query)"
   ]
  },
  {
   "cell_type": "code",
   "execution_count": 9,
   "metadata": {},
   "outputs": [],
   "source": [
    "diagnosis_list = []\n",
    "\n",
    "for result_row in results:\n",
    "    diagnosis_list.append({'gene symbol': result_row[0], 'diagnosis ID': result_row[1],\n",
    "                           'disease ID': result_row[2], 'disease label': result_row[3]})"
   ]
  },
  {
   "cell_type": "code",
   "execution_count": 14,
   "metadata": {},
   "outputs": [
    {
     "data": {
      "text/html": [
       "<div>\n",
       "<style scoped>\n",
       "    .dataframe tbody tr th:only-of-type {\n",
       "        vertical-align: middle;\n",
       "    }\n",
       "\n",
       "    .dataframe tbody tr th {\n",
       "        vertical-align: top;\n",
       "    }\n",
       "\n",
       "    .dataframe thead th {\n",
       "        text-align: right;\n",
       "    }\n",
       "</style>\n",
       "<table border=\"1\" class=\"dataframe\">\n",
       "  <thead>\n",
       "    <tr style=\"text-align: right;\">\n",
       "      <th></th>\n",
       "      <th>gene symbol</th>\n",
       "      <th>diagnosis ID</th>\n",
       "      <th>disease ID</th>\n",
       "      <th>disease label</th>\n",
       "    </tr>\n",
       "  </thead>\n",
       "  <tbody>\n",
       "    <tr>\n",
       "      <th>0</th>\n",
       "      <td>NRAS</td>\n",
       "      <td>https://example.org/diagnosis_phenopacketbf2d0...</td>\n",
       "      <td>OMIM:613224</td>\n",
       "      <td>Noonan syndrome 6</td>\n",
       "    </tr>\n",
       "    <tr>\n",
       "      <th>1</th>\n",
       "      <td>NRAS</td>\n",
       "      <td>https://example.org/diagnosis_phenopacketb7df3...</td>\n",
       "      <td>OMIM:613224</td>\n",
       "      <td>Noonan syndrome 6</td>\n",
       "    </tr>\n",
       "    <tr>\n",
       "      <th>2</th>\n",
       "      <td>NRAS</td>\n",
       "      <td>https://example.org/diagnosis_phenopacket0aaf0...</td>\n",
       "      <td>OMIM:613224</td>\n",
       "      <td>Noonan syndrome 6</td>\n",
       "    </tr>\n",
       "    <tr>\n",
       "      <th>3</th>\n",
       "      <td>NRAS</td>\n",
       "      <td>https://example.org/diagnosis_phenopacket3b2b2...</td>\n",
       "      <td>OMIM:613224</td>\n",
       "      <td>Noonan syndrome 6</td>\n",
       "    </tr>\n",
       "    <tr>\n",
       "      <th>4</th>\n",
       "      <td>NRAS</td>\n",
       "      <td>https://example.org/diagnosis_phenopacket1caa9...</td>\n",
       "      <td>OMIM:613224</td>\n",
       "      <td>Noonan syndrome 6</td>\n",
       "    </tr>\n",
       "    <tr>\n",
       "      <th>5</th>\n",
       "      <td>NRAS</td>\n",
       "      <td>https://example.org/diagnosis_phenopacket0520c...</td>\n",
       "      <td>OMIM:613224</td>\n",
       "      <td>Noonan syndrome 6</td>\n",
       "    </tr>\n",
       "    <tr>\n",
       "      <th>6</th>\n",
       "      <td>NRAS</td>\n",
       "      <td>https://example.org/diagnosis_phenopacketf0c96...</td>\n",
       "      <td>OMIM:613224</td>\n",
       "      <td>Noonan syndrome 6</td>\n",
       "    </tr>\n",
       "    <tr>\n",
       "      <th>7</th>\n",
       "      <td>NRAS</td>\n",
       "      <td>https://example.org/diagnosis_phenopacketee17c...</td>\n",
       "      <td>OMIM:613224</td>\n",
       "      <td>Noonan syndrome 6</td>\n",
       "    </tr>\n",
       "    <tr>\n",
       "      <th>8</th>\n",
       "      <td>NRAS</td>\n",
       "      <td>https://example.org/diagnosis_phenopacketa127c...</td>\n",
       "      <td>OMIM:613224</td>\n",
       "      <td>Noonan syndrome 6</td>\n",
       "    </tr>\n",
       "    <tr>\n",
       "      <th>9</th>\n",
       "      <td>NRAS</td>\n",
       "      <td>https://example.org/diagnosis_phenopacket14db1...</td>\n",
       "      <td>OMIM:613224</td>\n",
       "      <td>Noonan syndrome 6</td>\n",
       "    </tr>\n",
       "    <tr>\n",
       "      <th>10</th>\n",
       "      <td>NRAS</td>\n",
       "      <td>https://example.org/diagnosis_phenopacketfa9d7...</td>\n",
       "      <td>OMIM:613224</td>\n",
       "      <td>Noonan syndrome 6</td>\n",
       "    </tr>\n",
       "    <tr>\n",
       "      <th>11</th>\n",
       "      <td>NRAS</td>\n",
       "      <td>https://example.org/diagnosis_phenopacketba7f5...</td>\n",
       "      <td>OMIM:613224</td>\n",
       "      <td>Noonan syndrome 6</td>\n",
       "    </tr>\n",
       "    <tr>\n",
       "      <th>12</th>\n",
       "      <td>NRAS</td>\n",
       "      <td>https://example.org/diagnosis_phenopacketc9101...</td>\n",
       "      <td>OMIM:613224</td>\n",
       "      <td>Noonan syndrome 6</td>\n",
       "    </tr>\n",
       "    <tr>\n",
       "      <th>13</th>\n",
       "      <td>NRAS</td>\n",
       "      <td>https://example.org/diagnosis_phenopacketfba27...</td>\n",
       "      <td>OMIM:613224</td>\n",
       "      <td>Noonan syndrome 6</td>\n",
       "    </tr>\n",
       "  </tbody>\n",
       "</table>\n",
       "</div>"
      ],
      "text/plain": [
       "   gene symbol                                       diagnosis ID  \\\n",
       "0         NRAS  https://example.org/diagnosis_phenopacketbf2d0...   \n",
       "1         NRAS  https://example.org/diagnosis_phenopacketb7df3...   \n",
       "2         NRAS  https://example.org/diagnosis_phenopacket0aaf0...   \n",
       "3         NRAS  https://example.org/diagnosis_phenopacket3b2b2...   \n",
       "4         NRAS  https://example.org/diagnosis_phenopacket1caa9...   \n",
       "5         NRAS  https://example.org/diagnosis_phenopacket0520c...   \n",
       "6         NRAS  https://example.org/diagnosis_phenopacketf0c96...   \n",
       "7         NRAS  https://example.org/diagnosis_phenopacketee17c...   \n",
       "8         NRAS  https://example.org/diagnosis_phenopacketa127c...   \n",
       "9         NRAS  https://example.org/diagnosis_phenopacket14db1...   \n",
       "10        NRAS  https://example.org/diagnosis_phenopacketfa9d7...   \n",
       "11        NRAS  https://example.org/diagnosis_phenopacketba7f5...   \n",
       "12        NRAS  https://example.org/diagnosis_phenopacketc9101...   \n",
       "13        NRAS  https://example.org/diagnosis_phenopacketfba27...   \n",
       "\n",
       "     disease ID      disease label  \n",
       "0   OMIM:613224  Noonan syndrome 6  \n",
       "1   OMIM:613224  Noonan syndrome 6  \n",
       "2   OMIM:613224  Noonan syndrome 6  \n",
       "3   OMIM:613224  Noonan syndrome 6  \n",
       "4   OMIM:613224  Noonan syndrome 6  \n",
       "5   OMIM:613224  Noonan syndrome 6  \n",
       "6   OMIM:613224  Noonan syndrome 6  \n",
       "7   OMIM:613224  Noonan syndrome 6  \n",
       "8   OMIM:613224  Noonan syndrome 6  \n",
       "9   OMIM:613224  Noonan syndrome 6  \n",
       "10  OMIM:613224  Noonan syndrome 6  \n",
       "11  OMIM:613224  Noonan syndrome 6  \n",
       "12  OMIM:613224  Noonan syndrome 6  \n",
       "13  OMIM:613224  Noonan syndrome 6  "
      ]
     },
     "metadata": {
      "scrapbook": {
       "mime_prefix": "",
       "name": "scenario4_diagnosis"
      }
     },
     "output_type": "display_data"
    }
   ],
   "source": [
    "diagnosis_df = pd.DataFrame(diagnosis_list)\n",
    "glue('scenario4_diagnosis', diagnosis_df)"
   ]
  }
 ],
 "metadata": {
  "kernelspec": {
   "display_name": ".venv",
   "language": "python",
   "name": "python3"
  },
  "language_info": {
   "codemirror_mode": {
    "name": "ipython",
    "version": 3
   },
   "file_extension": ".py",
   "mimetype": "text/x-python",
   "name": "python",
   "nbconvert_exporter": "python",
   "pygments_lexer": "ipython3",
   "version": "3.12.3"
  }
 },
 "nbformat": 4,
 "nbformat_minor": 2
}
